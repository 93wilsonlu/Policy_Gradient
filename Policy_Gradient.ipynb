{
  "nbformat": 4,
  "nbformat_minor": 0,
  "metadata": {
    "colab": {
      "name": "Policy_Gradient.ipynb",
      "provenance": [],
      "collapsed_sections": []
    },
    "kernelspec": {
      "name": "python3",
      "display_name": "Python 3"
    },
    "language_info": {
      "name": "python"
    },
    "accelerator": "GPU",
    "gpuClass": "standard"
  },
  "cells": [
    {
      "cell_type": "code",
      "execution_count": null,
      "metadata": {
        "id": "dTNC5qKgbZwZ",
        "colab": {
          "base_uri": "https://localhost:8080/"
        },
        "outputId": "11ffe6cf-3ef6-429b-db43-b5ff79c41927"
      },
      "outputs": [
        {
          "output_type": "stream",
          "name": "stdout",
          "text": [
            "Mounted at /content/drive\n"
          ]
        }
      ],
      "source": [
        "from google.colab import drive\n",
        "import os\n",
        "drive.mount('/content/drive')\n",
        "os.chdir(\"/content/drive/My Drive/Colab Notebooks\")\n",
        "\n",
        "import tensorflow as tf\n",
        "from tensorflow import keras\n",
        "from tensorflow.keras import layers\n",
        "import numpy as np\n",
        "import gym\n",
        "import scipy.signal"
      ]
    },
    {
      "cell_type": "code",
      "source": [
        "steps_per_epoch = 4000\n",
        "epochs = 30\n",
        "hidden_sizes = (64, 64)\n",
        "train_iterations = 80\n",
        "seed = 543\n",
        "np.random.seed(seed=seed)"
      ],
      "metadata": {
        "id": "r5_LRqnZV6s_"
      },
      "execution_count": null,
      "outputs": []
    },
    {
      "cell_type": "code",
      "source": [
        "def discounted_cumulative_sums(x, discount):\n",
        "    '''\n",
        "    :param array(n) x: reward\n",
        "    :param float discount\n",
        "    '''\n",
        "    return scipy.signal.lfilter([1], [1, float(-discount)], x[::-1], axis=0)[::-1]"
      ],
      "metadata": {
        "id": "HrfmBZoydVC1"
      },
      "execution_count": null,
      "outputs": []
    },
    {
      "cell_type": "code",
      "source": [
        "class Buffer:\n",
        "    def __init__(self, observation_dimensions, size, gamma=0.99):\n",
        "        self.observation_buffer = np.zeros(\n",
        "            (size, observation_dimensions), dtype=np.float32\n",
        "        )\n",
        "        self.action_buffer = np.zeros(size, dtype=np.int32)\n",
        "        self.reward_buffer = np.zeros(size, dtype=np.float32)\n",
        "        self.advantage_buffer = np.zeros(size, dtype=np.float32)\n",
        "        self.gamma = gamma\n",
        "        self.pointer, self.trajectory_start_index = 0, 0\n",
        "\n",
        "    def store(self, observation, action, reward):\n",
        "        self.observation_buffer[self.pointer] = observation\n",
        "        self.action_buffer[self.pointer] = action\n",
        "        self.reward_buffer[self.pointer] = reward\n",
        "        self.pointer += 1\n",
        "\n",
        "    def finish_trajectory(self):\n",
        "        path_slice = slice(self.trajectory_start_index, self.pointer)\n",
        "\n",
        "        self.advantage_buffer[path_slice] = discounted_cumulative_sums(\n",
        "            self.reward_buffer[path_slice], self.gamma\n",
        "        )\n",
        "        self.advantage_buffer[path_slice] -= np.mean(self.advantage_buffer[path_slice])\n",
        "        self.trajectory_start_index = self.pointer\n",
        "\n",
        "    def get(self):\n",
        "        self.pointer, self.trajectory_start_index = 0, 0\n",
        "        return (\n",
        "            self.observation_buffer[:self.pointer],\n",
        "            self.action_buffer[:self.pointer],\n",
        "            self.advantage_buffer[:self.pointer],\n",
        "        )"
      ],
      "metadata": {
        "id": "xmFk0sJSd96V"
      },
      "execution_count": null,
      "outputs": []
    },
    {
      "cell_type": "code",
      "source": [
        "def mlp(x, sizes, activation='relu', output_activation=None):\n",
        "    for size in sizes[:-1]:\n",
        "        x = layers.Dense(units=size, activation=activation)(x)\n",
        "    return layers.Dense(units=sizes[-1], activation=output_activation)(x)"
      ],
      "metadata": {
        "id": "6_tca08cVZPw"
      },
      "execution_count": null,
      "outputs": []
    },
    {
      "cell_type": "code",
      "source": [
        "def logprobabilities(logits, a):\n",
        "    '''\n",
        "    :param array(n, num_actions) logits: model output\n",
        "    :param array(n) a\n",
        "    :return array(n) logprobability\n",
        "    '''\n",
        "    logprobabilities_all = tf.math.log(logits)\n",
        "    logprobability = tf.reduce_sum(\n",
        "        tf.one_hot(a, num_actions) * logprobabilities_all, axis=1\n",
        "    )\n",
        "    return logprobability"
      ],
      "metadata": {
        "id": "2UdWXHKdVwJa"
      },
      "execution_count": null,
      "outputs": []
    },
    {
      "cell_type": "code",
      "source": [
        "@tf.function\n",
        "def sample_action(observation):\n",
        "    '''\n",
        "    :param array(n, 4) observation\n",
        "    :return array(1) action\n",
        "    '''\n",
        "    logits = model(tf.expand_dims(observation, axis=0))\n",
        "    action = tf.squeeze(tf.random.categorical(logits, 1), axis=1)\n",
        "    return action[0]"
      ],
      "metadata": {
        "id": "q0R-GqgxV5B2"
      },
      "execution_count": null,
      "outputs": []
    },
    {
      "cell_type": "code",
      "source": [
        "env = gym.make(\"CartPole-v1\")\n",
        "observation_dimensions = env.observation_space.shape[0]\n",
        "num_actions = env.action_space.n\n",
        "\n",
        "buffer = Buffer(observation_dimensions, steps_per_epoch)\n",
        "\n",
        "observation_input = keras.Input(shape=(observation_dimensions,), dtype=tf.float32)\n",
        "logits = mlp(observation_input, list(hidden_sizes) + [num_actions], 'relu', 'softmax')\n",
        "model = keras.Model(inputs=observation_input, outputs=logits)\n",
        "optimizer = keras.optimizers.Adam()"
      ],
      "metadata": {
        "id": "4eBRo8nIWxIM",
        "colab": {
          "base_uri": "https://localhost:8080/"
        },
        "outputId": "a91abbf6-a2a1-4efa-9e14-6c1c754c9ff2"
      },
      "execution_count": null,
      "outputs": [
        {
          "output_type": "stream",
          "name": "stderr",
          "text": [
            "/content/drive/My Drive/Colab Notebooks/gym/core.py:330: DeprecationWarning: \u001b[33mWARN: Initializing wrapper in old step API which returns one bool instead of two. It is recommended to set `new_step_api=True` to use new step API. This will be the default behaviour in future.\u001b[0m\n",
            "  \"Initializing wrapper in old step API which returns one bool instead of two. It is recommended to set `new_step_api=True` to use new step API. This will be the default behaviour in future.\"\n",
            "/content/drive/My Drive/Colab Notebooks/gym/wrappers/step_api_compatibility.py:40: DeprecationWarning: \u001b[33mWARN: Initializing environment in old step API which returns one bool instead of two. It is recommended to set `new_step_api=True` to use new step API. This will be the default behaviour in future.\u001b[0m\n",
            "  \"Initializing environment in old step API which returns one bool instead of two. It is recommended to set `new_step_api=True` to use new step API. This will be the default behaviour in future.\"\n"
          ]
        }
      ]
    },
    {
      "cell_type": "code",
      "source": [
        "def train_model(observation_buffer, action_buffer, advantage_buffer):\n",
        "    '''\n",
        "    :param array(n, observation_dimensions) observation_buffer\n",
        "    :param array(n) action_buffer\n",
        "    :param array(n) advantage_buffer\n",
        "    '''\n",
        "    with tf.GradientTape() as tape:\n",
        "        loss = -tf.reduce_mean(\n",
        "            logprobabilities(model(observation_buffer), action_buffer) * advantage_buffer\n",
        "        )\n",
        "    grads = tape.gradient(loss, model.trainable_variables)\n",
        "    optimizer.apply_gradients(zip(grads, model.trainable_variables))\n",
        "    return loss"
      ],
      "metadata": {
        "id": "4yUdh7D2YSBW"
      },
      "execution_count": null,
      "outputs": []
    },
    {
      "cell_type": "code",
      "source": [
        "epochs = 1000\n",
        "observation, episode_return = env.reset(), 0\n",
        "mean_reward_one_step = np.zeros(epochs)\n",
        "\n",
        "for epoch in range(epochs):\n",
        "    sum_return = 0\n",
        "    num_episodes = 0\n",
        "\n",
        "    for t in range(steps_per_epoch):\n",
        "        action = int(sample_action(observation))\n",
        "        observation_new, reward, done, _ = env.step(action)\n",
        "        episode_return += reward\n",
        "\n",
        "        buffer.store(observation, action, reward)\n",
        "\n",
        "        observation = observation_new\n",
        "\n",
        "        if done or (t == steps_per_epoch - 1):\n",
        "            buffer.finish_trajectory()\n",
        "            sum_return += episode_return\n",
        "            num_episodes += 1\n",
        "            observation, episode_return = env.reset(), 0\n",
        "            break\n",
        "\n",
        "    (\n",
        "        observation_buffer,\n",
        "        action_buffer,\n",
        "        advantage_buffer,\n",
        "    ) = buffer.get()\n",
        "\n",
        "    loss = -train_model(observation_buffer, action_buffer, advantage_buffer)\n",
        "\n",
        "    mean_reward_one_step[epoch] = sum_return / num_episodes\n",
        "\n",
        "    if tf.math.is_nan(loss):\n",
        "        print(\n",
        "            f\" Find NaN at Epoch: {epoch}. Mean Return: {sum_return / num_episodes}\"\n",
        "        )\n",
        "        break\n",
        "    \n",
        "    if epoch % 10 == 0:\n",
        "        print(\n",
        "            f\" Epoch: {epoch}. Mean Return: {sum_return / num_episodes}\"\n",
        "        )"
      ],
      "metadata": {
        "colab": {
          "base_uri": "https://localhost:8080/"
        },
        "id": "VVVg4SP2_f2J",
        "outputId": "df4f8560-2d5a-469f-9d96-504fccc8808a"
      },
      "execution_count": null,
      "outputs": [
        {
          "output_type": "stream",
          "name": "stdout",
          "text": [
            " Find NaN at Epoch: 0. Mean Return: 11.0\n"
          ]
        }
      ]
    },
    {
      "cell_type": "code",
      "source": [
        "import matplotlib.pyplot as plt\n",
        "\n",
        "plt.figure(figsize=(15, 10))\n",
        "\n",
        "plt.plot(np.arange(0, epochs), mean_reward_one_step, label='One step per epoch')\n",
        "\n",
        "plt.xlabel('Epoch', fontsize=20) \n",
        "plt.ylabel('Mean Reward', fontsize=20)\n",
        "plt.title(\"Training Result\", fontsize=20)\n",
        "\n",
        "plt.ylim(0, env.spec.reward_threshold+20)\n",
        "plt.yticks([0, 9.5, mean_reward_multistep.max(), env.spec.reward_threshold])\n",
        "plt.grid(axis='y')\n",
        "plt.legend()\n",
        "\n",
        "plt.show()"
      ],
      "metadata": {
        "colab": {
          "base_uri": "https://localhost:8080/",
          "height": 636
        },
        "id": "EHpDjPRO_45A",
        "outputId": "aca53e6e-7e21-4234-8812-74d0f4e7c4d3"
      },
      "execution_count": null,
      "outputs": [
        {
          "output_type": "display_data",
          "data": {
            "text/plain": [
              "<Figure size 1080x720 with 1 Axes>"
            ],
            "image/png": "[encoded data removed]"
          },
          "metadata": {
            "needs_background": "light"
          }
        }
      ]
    },
    {
      "cell_type": "code",
      "source": [
        "from gym.wrappers import RecordVideo\n",
        "record_env = RecordVideo(gym.make('CartPole-v1'), './video')\n",
        "\n",
        "current_state = record_env.reset()\n",
        "sum_reward = 0\n",
        "while 1:\n",
        "    action = sample_action(current_state.reshape(1, -1))\n",
        "    next_state, reward, done, info = record_env.step(action[0].numpy())\n",
        "    sum_reward += reward\n",
        "    # current_state = next_state\n",
        "    if done:\n",
        "        break\n",
        "\n",
        "record_env.close()\n",
        "print(sum_reward)"
      ],
      "metadata": {
        "id": "4oxGcDYKZcc7",
        "colab": {
          "base_uri": "https://localhost:8080/"
        },
        "outputId": "030c5918-3f86-4714-95c4-6c03fa5c4682"
      },
      "execution_count": null,
      "outputs": [
        {
          "output_type": "stream",
          "name": "stderr",
          "text": [
            "/content/drive/My Drive/Colab Notebooks/gym/core.py:330: DeprecationWarning: \u001b[33mWARN: Initializing wrapper in old step API which returns one bool instead of two. It is recommended to set `new_step_api=True` to use new step API. This will be the default behaviour in future.\u001b[0m\n",
            "  \"Initializing wrapper in old step API which returns one bool instead of two. It is recommended to set `new_step_api=True` to use new step API. This will be the default behaviour in future.\"\n",
            "/content/drive/My Drive/Colab Notebooks/gym/wrappers/step_api_compatibility.py:40: DeprecationWarning: \u001b[33mWARN: Initializing environment in old step API which returns one bool instead of two. It is recommended to set `new_step_api=True` to use new step API. This will be the default behaviour in future.\u001b[0m\n",
            "  \"Initializing environment in old step API which returns one bool instead of two. It is recommended to set `new_step_api=True` to use new step API. This will be the default behaviour in future.\"\n",
            "/content/drive/My Drive/Colab Notebooks/gym/wrappers/record_video.py:79: UserWarning: \u001b[33mWARN: Overwriting existing videos at /content/drive/MyDrive/Colab Notebooks/video folder (try specifying a different `video_folder` for the `RecordVideo` wrapper if this is not desired)\u001b[0m\n",
            "  f\"Overwriting existing videos at {self.video_folder} folder \"\n",
            "/content/drive/My Drive/Colab Notebooks/gym/wrappers/monitoring/video_recorder.py:79: DeprecationWarning: \u001b[33mWARN: Recording ability for environment CartPole-v1 initialized with `render_mode=None` is marked as deprecated and will be removed in the future.\u001b[0m\n",
            "  f\"Recording ability for environment {env.spec.id} initialized with `render_mode=None` is marked \"\n",
            "/content/drive/My Drive/Colab Notebooks/gym/core.py:52: DeprecationWarning: \u001b[33mWARN: The argument mode in render method is deprecated; use render_mode during environment initialization instead.\n",
            "See here for more information: https://www.gymlibrary.ml/content/api/\u001b[0m\n",
            "  \"The argument mode in render method is deprecated; \"\n",
            "/content/drive/My Drive/Colab Notebooks/gym/core.py:52: DeprecationWarning: \u001b[33mWARN: The argument mode in render method is deprecated; use render_mode during environment initialization instead.\n",
            "See here for more information: https://www.gymlibrary.ml/content/api/\u001b[0m\n",
            "  \"The argument mode in render method is deprecated; \"\n"
          ]
        },
        {
          "output_type": "stream",
          "name": "stdout",
          "text": [
            "13.0\n"
          ]
        }
      ]
    },
    {
      "cell_type": "code",
      "source": [
        ""
      ],
      "metadata": {
        "id": "2qyhfy4ZByR0"
      },
      "execution_count": null,
      "outputs": []
    }
  ]
}