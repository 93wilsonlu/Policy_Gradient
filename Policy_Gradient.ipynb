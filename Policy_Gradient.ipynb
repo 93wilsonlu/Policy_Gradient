{
  "nbformat": 4,
  "nbformat_minor": 0,
  "metadata": {
    "colab": {
      "name": "Policy_Gradient.ipynb",
      "provenance": [],
      "collapsed_sections": []
    },
    "kernelspec": {
      "name": "python3",
      "display_name": "Python 3"
    },
    "language_info": {
      "name": "python"
    },
    "accelerator": "GPU",
    "gpuClass": "standard"
  },
  "cells": [
    {
      "cell_type": "code",
      "execution_count": 1,
      "metadata": {
        "id": "dTNC5qKgbZwZ",
        "colab": {
          "base_uri": "https://localhost:8080/"
        },
        "outputId": "667a0642-45c8-4b6a-cb25-da9109f5fb10"
      },
      "outputs": [
        {
          "output_type": "stream",
          "name": "stdout",
          "text": [
            "Mounted at /content/drive\n"
          ]
        }
      ],
      "source": [
        "from google.colab import drive\n",
        "import os\n",
        "drive.mount('/content/drive')\n",
        "os.chdir(\"/content/drive/My Drive/Colab Notebooks\")\n",
        "\n",
        "import tensorflow as tf\n",
        "from tensorflow import keras\n",
        "from tensorflow.keras import layers\n",
        "import numpy as np\n",
        "import gym\n",
        "import scipy.signal"
      ]
    },
    {
      "cell_type": "code",
      "source": [
        "seed = 543\n",
        "np.random.seed(seed=seed)\n",
        "env = gym.make(\"CartPole-v1\")\n",
        "observation_dimensions = env.observation_space.shape[0]\n",
        "num_actions = env.action_space.n"
      ],
      "metadata": {
        "id": "r5_LRqnZV6s_",
        "colab": {
          "base_uri": "https://localhost:8080/"
        },
        "outputId": "5002e1ce-b453-4266-d795-f006960cda18"
      },
      "execution_count": 19,
      "outputs": [
        {
          "output_type": "stream",
          "name": "stderr",
          "text": [
            "/content/drive/My Drive/Colab Notebooks/gym/core.py:330: DeprecationWarning: \u001b[33mWARN: Initializing wrapper in old step API which returns one bool instead of two. It is recommended to set `new_step_api=True` to use new step API. This will be the default behaviour in future.\u001b[0m\n",
            "  \"Initializing wrapper in old step API which returns one bool instead of two. It is recommended to set `new_step_api=True` to use new step API. This will be the default behaviour in future.\"\n",
            "/content/drive/My Drive/Colab Notebooks/gym/wrappers/step_api_compatibility.py:40: DeprecationWarning: \u001b[33mWARN: Initializing environment in old step API which returns one bool instead of two. It is recommended to set `new_step_api=True` to use new step API. This will be the default behaviour in future.\u001b[0m\n",
            "  \"Initializing environment in old step API which returns one bool instead of two. It is recommended to set `new_step_api=True` to use new step API. This will be the default behaviour in future.\"\n"
          ]
        }
      ]
    },
    {
      "cell_type": "code",
      "source": [
        "def discounted_cumulative_sums(x, discount):\n",
        "    '''\n",
        "    :param array(n) x: reward\n",
        "    :param float discount\n",
        "    '''\n",
        "    return scipy.signal.lfilter([1], [1, float(-discount)], x[::-1], axis=0)[::-1]"
      ],
      "metadata": {
        "id": "HrfmBZoydVC1"
      },
      "execution_count": 3,
      "outputs": []
    },
    {
      "cell_type": "code",
      "source": [
        "class Buffer:\n",
        "    def __init__(self, observation_dimensions, size, gamma=0.99):\n",
        "        self.observation_buffer = np.zeros(\n",
        "            (size, observation_dimensions), dtype=np.float32\n",
        "        )\n",
        "        self.action_buffer = np.zeros(size, dtype=np.int32)\n",
        "        self.reward_buffer = np.zeros(size, dtype=np.float32)\n",
        "        self.advantage_buffer = np.zeros(size, dtype=np.float32)\n",
        "        self.gamma = gamma\n",
        "        self.pointer, self.trajectory_start_index = 0, 0\n",
        "\n",
        "    def store(self, observation, action, reward):\n",
        "        self.observation_buffer[self.pointer] = observation\n",
        "        self.action_buffer[self.pointer] = action\n",
        "        self.reward_buffer[self.pointer] = reward\n",
        "        self.pointer += 1\n",
        "\n",
        "    def finish_trajectory(self):\n",
        "        path_slice = slice(self.trajectory_start_index, self.pointer)\n",
        "\n",
        "        self.advantage_buffer[path_slice] = discounted_cumulative_sums(\n",
        "            self.reward_buffer[path_slice], self.gamma\n",
        "        )\n",
        "        self.advantage_buffer[path_slice] -= np.mean(self.advantage_buffer[path_slice])\n",
        "        self.trajectory_start_index = self.pointer\n",
        "\n",
        "    def get(self):\n",
        "        return (\n",
        "            self.observation_buffer[:self.pointer],\n",
        "            self.action_buffer[:self.pointer],\n",
        "            self.advantage_buffer[:self.pointer],\n",
        "        )\n",
        "    \n",
        "    def clear(self):\n",
        "        self.pointer, self.trajectory_start_index = 0, 0\n",
        "\n",
        "buffer = Buffer(observation_dimensions, 4000)"
      ],
      "metadata": {
        "id": "xmFk0sJSd96V"
      },
      "execution_count": 15,
      "outputs": []
    },
    {
      "cell_type": "code",
      "source": [
        "def mlp(x, sizes, activation='relu', output_activation=None):\n",
        "    for size in sizes[:-1]:\n",
        "        x = layers.Dense(units=size, activation=activation)(x)\n",
        "    return layers.Dense(units=sizes[-1], activation=output_activation)(x)"
      ],
      "metadata": {
        "id": "6_tca08cVZPw"
      },
      "execution_count": 8,
      "outputs": []
    },
    {
      "cell_type": "code",
      "source": [
        "def logprobabilities(logits, a):\n",
        "    '''\n",
        "    :param array(n, num_actions) logits: model output\n",
        "    :param array(n) a\n",
        "    :return array(n) logprobability\n",
        "    '''\n",
        "    logprobabilities_all = tf.math.log_softmax(logits)\n",
        "    logprobability = tf.reduce_sum(\n",
        "        tf.one_hot(a, num_actions) * logprobabilities_all, axis=1\n",
        "    )\n",
        "    return logprobability"
      ],
      "metadata": {
        "id": "2UdWXHKdVwJa"
      },
      "execution_count": 20,
      "outputs": []
    },
    {
      "cell_type": "code",
      "source": [
        "@tf.function\n",
        "def sample_action(observation):\n",
        "    '''\n",
        "    :param array(n, 4) observation\n",
        "    :return array(1) action\n",
        "    '''\n",
        "    logits = model(tf.expand_dims(observation, axis=0))\n",
        "    action = tf.squeeze(tf.random.categorical(logits, 1), axis=1)\n",
        "    return action[0]"
      ],
      "metadata": {
        "id": "q0R-GqgxV5B2"
      },
      "execution_count": 10,
      "outputs": []
    },
    {
      "cell_type": "code",
      "source": [
        "observation_input = keras.Input(shape=(observation_dimensions,), dtype=tf.float32)\n",
        "logits = mlp(observation_input, [64, 64, num_actions])\n",
        "model = keras.Model(inputs=observation_input, outputs=logits)\n",
        "optimizer = keras.optimizers.Adam()"
      ],
      "metadata": {
        "id": "4eBRo8nIWxIM"
      },
      "execution_count": 21,
      "outputs": []
    },
    {
      "cell_type": "code",
      "source": [
        "def train_model(observation_buffer, action_buffer, advantage_buffer):\n",
        "    '''\n",
        "    :param array(n, observation_dimensions) observation_buffer\n",
        "    :param array(n) action_buffer\n",
        "    :param array(n) advantage_buffer\n",
        "    '''\n",
        "    with tf.GradientTape() as tape:\n",
        "        loss = -tf.reduce_mean(\n",
        "            logprobabilities(model(observation_buffer), action_buffer) * advantage_buffer\n",
        "        )\n",
        "    grads = tape.gradient(loss, model.trainable_variables)\n",
        "    optimizer.apply_gradients(zip(grads, model.trainable_variables))\n",
        "    return loss"
      ],
      "metadata": {
        "id": "4yUdh7D2YSBW"
      },
      "execution_count": 13,
      "outputs": []
    },
    {
      "cell_type": "code",
      "source": [
        "epochs = 1000\n",
        "sum_reward_one_step = np.zeros(epochs)\n",
        "\n",
        "for epoch in range(epochs):\n",
        "    buffer.clear()\n",
        "    sum_reward = 0\n",
        "    observation = env.reset()\n",
        "\n",
        "    while 1:\n",
        "        action = int(sample_action(observation))\n",
        "        observation_new, reward, done, _ = env.step(action)\n",
        "        sum_reward += reward\n",
        "\n",
        "        buffer.store(observation, action, reward)\n",
        "\n",
        "        observation = observation_new\n",
        "\n",
        "        if done:\n",
        "            break\n",
        "\n",
        "    buffer.finish_trajectory()\n",
        "    \n",
        "    (\n",
        "        observation_buffer,\n",
        "        action_buffer,\n",
        "        advantage_buffer,\n",
        "    ) = buffer.get()\n",
        "\n",
        "    loss = -train_model(observation_buffer, action_buffer, advantage_buffer)\n",
        "\n",
        "    sum_reward_one_step[epoch] = sum_reward\n",
        "\n",
        "    if tf.math.is_nan(loss):\n",
        "        print(\n",
        "            f\" Find NaN at Epoch: {epoch}. Reward: {sum_reward}\"\n",
        "        )\n",
        "        break\n",
        "    \n",
        "    if epoch % 10 == 0:\n",
        "        print(\n",
        "            f\" Epoch: {epoch}. Reward: {sum_reward}\"\n",
        "        )"
      ],
      "metadata": {
        "colab": {
          "base_uri": "https://localhost:8080/"
        },
        "id": "VVVg4SP2_f2J",
        "outputId": "95077ffa-acd2-41b8-9dad-b71ff0cadf65"
      },
      "execution_count": 22,
      "outputs": [
        {
          "output_type": "stream",
          "name": "stdout",
          "text": [
            " Epoch: 0. Reward: 13.0\n",
            " Epoch: 10. Reward: 12.0\n",
            " Epoch: 20. Reward: 16.0\n",
            " Epoch: 30. Reward: 18.0\n",
            " Epoch: 40. Reward: 12.0\n",
            " Epoch: 50. Reward: 74.0\n",
            " Epoch: 60. Reward: 15.0\n",
            " Epoch: 70. Reward: 8.0\n",
            " Epoch: 80. Reward: 31.0\n",
            " Epoch: 90. Reward: 24.0\n",
            " Epoch: 100. Reward: 32.0\n",
            " Epoch: 110. Reward: 15.0\n",
            " Epoch: 120. Reward: 20.0\n",
            " Epoch: 130. Reward: 10.0\n",
            " Epoch: 140. Reward: 18.0\n",
            " Epoch: 150. Reward: 11.0\n",
            " Epoch: 160. Reward: 16.0\n",
            " Epoch: 170. Reward: 24.0\n",
            " Epoch: 180. Reward: 34.0\n",
            " Epoch: 190. Reward: 15.0\n",
            " Epoch: 200. Reward: 31.0\n",
            " Epoch: 210. Reward: 18.0\n",
            " Epoch: 220. Reward: 18.0\n",
            " Epoch: 230. Reward: 15.0\n",
            " Epoch: 240. Reward: 9.0\n",
            " Epoch: 250. Reward: 19.0\n",
            " Epoch: 260. Reward: 12.0\n",
            " Epoch: 270. Reward: 17.0\n",
            " Epoch: 280. Reward: 15.0\n",
            " Epoch: 290. Reward: 65.0\n",
            " Epoch: 300. Reward: 11.0\n",
            " Epoch: 310. Reward: 24.0\n",
            " Epoch: 320. Reward: 36.0\n",
            " Epoch: 330. Reward: 29.0\n",
            " Epoch: 340. Reward: 16.0\n",
            " Epoch: 350. Reward: 18.0\n",
            " Epoch: 360. Reward: 24.0\n",
            " Epoch: 370. Reward: 14.0\n",
            " Epoch: 380. Reward: 33.0\n",
            " Epoch: 390. Reward: 29.0\n",
            " Epoch: 400. Reward: 53.0\n",
            " Epoch: 410. Reward: 20.0\n",
            " Epoch: 420. Reward: 13.0\n",
            " Epoch: 430. Reward: 17.0\n",
            " Epoch: 440. Reward: 17.0\n",
            " Epoch: 450. Reward: 27.0\n",
            " Epoch: 460. Reward: 35.0\n",
            " Epoch: 470. Reward: 16.0\n",
            " Epoch: 480. Reward: 8.0\n",
            " Epoch: 490. Reward: 18.0\n",
            " Epoch: 500. Reward: 25.0\n",
            " Epoch: 510. Reward: 54.0\n",
            " Epoch: 520. Reward: 13.0\n",
            " Epoch: 530. Reward: 11.0\n",
            " Epoch: 540. Reward: 29.0\n",
            " Epoch: 550. Reward: 22.0\n",
            " Epoch: 560. Reward: 41.0\n",
            " Epoch: 570. Reward: 21.0\n",
            " Epoch: 580. Reward: 24.0\n",
            " Epoch: 590. Reward: 20.0\n",
            " Epoch: 600. Reward: 12.0\n",
            " Epoch: 610. Reward: 12.0\n",
            " Epoch: 620. Reward: 21.0\n",
            " Epoch: 630. Reward: 20.0\n",
            " Epoch: 640. Reward: 15.0\n",
            " Epoch: 650. Reward: 15.0\n",
            " Epoch: 660. Reward: 18.0\n",
            " Epoch: 670. Reward: 14.0\n",
            " Epoch: 680. Reward: 16.0\n",
            " Epoch: 690. Reward: 14.0\n",
            " Epoch: 700. Reward: 44.0\n",
            " Epoch: 710. Reward: 13.0\n",
            " Epoch: 720. Reward: 18.0\n",
            " Epoch: 730. Reward: 11.0\n",
            " Epoch: 740. Reward: 18.0\n",
            " Epoch: 750. Reward: 34.0\n",
            " Epoch: 760. Reward: 21.0\n",
            " Epoch: 770. Reward: 39.0\n",
            " Epoch: 780. Reward: 50.0\n",
            " Epoch: 790. Reward: 10.0\n",
            " Epoch: 800. Reward: 18.0\n",
            " Epoch: 810. Reward: 39.0\n",
            " Epoch: 820. Reward: 19.0\n",
            " Epoch: 830. Reward: 10.0\n",
            " Epoch: 840. Reward: 32.0\n",
            " Epoch: 850. Reward: 12.0\n",
            " Epoch: 860. Reward: 12.0\n",
            " Epoch: 870. Reward: 15.0\n",
            " Epoch: 880. Reward: 21.0\n",
            " Epoch: 890. Reward: 14.0\n",
            " Epoch: 900. Reward: 29.0\n",
            " Epoch: 910. Reward: 34.0\n",
            " Epoch: 920. Reward: 36.0\n",
            " Epoch: 930. Reward: 28.0\n",
            " Epoch: 940. Reward: 11.0\n",
            " Epoch: 950. Reward: 49.0\n",
            " Epoch: 960. Reward: 17.0\n",
            " Epoch: 970. Reward: 15.0\n",
            " Epoch: 980. Reward: 10.0\n",
            " Epoch: 990. Reward: 12.0\n"
          ]
        }
      ]
    },
    {
      "cell_type": "code",
      "source": [
        "loss"
      ],
      "metadata": {
        "colab": {
          "base_uri": "https://localhost:8080/"
        },
        "id": "M5tb0_8vkGLC",
        "outputId": "bee6af7c-b21e-4f9f-fd63-ff877054c095"
      },
      "execution_count": 25,
      "outputs": [
        {
          "output_type": "execute_result",
          "data": {
            "text/plain": [
              "<tf.Tensor: shape=(), dtype=float32, numpy=5537.5156>"
            ]
          },
          "metadata": {},
          "execution_count": 25
        }
      ]
    },
    {
      "cell_type": "code",
      "source": [
        "import matplotlib.pyplot as plt\n",
        "\n",
        "plt.figure(figsize=(15, 10))\n",
        "\n",
        "plt.plot(np.arange(0, epochs), sum_reward_one_step, label='One step per epoch')\n",
        "\n",
        "plt.xlabel('Epoch', fontsize=20) \n",
        "plt.ylabel('Mean Reward', fontsize=20)\n",
        "plt.title(\"Training Result\", fontsize=20)\n",
        "\n",
        "plt.ylim(0, env.spec.reward_threshold+20)\n",
        "plt.yticks([0, np.mean(sum_reward_one_step), np.max(sum_reward_one_step), env.spec.reward_threshold])\n",
        "plt.grid(axis='y')\n",
        "plt.legend()\n",
        "\n",
        "plt.show()"
      ],
      "metadata": {
        "colab": {
          "base_uri": "https://localhost:8080/",
          "height": 636
        },
        "id": "EHpDjPRO_45A",
        "outputId": "1a20b7a7-fe0f-45f7-80fc-ac73d6e1457d"
      },
      "execution_count": 24,
      "outputs": [
        {
          "output_type": "display_data",
          "data": {
            "text/plain": [
              "<Figure size 1080x720 with 1 Axes>"
            ],
            "image/png": "[encoded data removed]"
          },
          "metadata": {
            "needs_background": "light"
          }
        }
      ]
    },
    {
      "cell_type": "code",
      "source": [
        "from gym.wrappers import RecordVideo\n",
        "record_env = RecordVideo(env, './video')\n",
        "\n",
        "current_state = record_env.reset()\n",
        "sum_reward = 0\n",
        "while 1:\n",
        "    action = int(sample_action(current_state))\n",
        "    next_state, reward, done, info = record_env.step(action)\n",
        "    sum_reward += reward\n",
        "    current_state = next_state\n",
        "    if done:\n",
        "        break\n",
        "\n",
        "record_env.close()\n",
        "print(sum_reward)"
      ],
      "metadata": {
        "id": "4oxGcDYKZcc7",
        "colab": {
          "base_uri": "https://localhost:8080/"
        },
        "outputId": "030c5918-3f86-4714-95c4-6c03fa5c4682"
      },
      "execution_count": null,
      "outputs": [
        {
          "output_type": "stream",
          "name": "stderr",
          "text": [
            "/content/drive/My Drive/Colab Notebooks/gym/core.py:330: DeprecationWarning: \u001b[33mWARN: Initializing wrapper in old step API which returns one bool instead of two. It is recommended to set `new_step_api=True` to use new step API. This will be the default behaviour in future.\u001b[0m\n",
            "  \"Initializing wrapper in old step API which returns one bool instead of two. It is recommended to set `new_step_api=True` to use new step API. This will be the default behaviour in future.\"\n",
            "/content/drive/My Drive/Colab Notebooks/gym/wrappers/step_api_compatibility.py:40: DeprecationWarning: \u001b[33mWARN: Initializing environment in old step API which returns one bool instead of two. It is recommended to set `new_step_api=True` to use new step API. This will be the default behaviour in future.\u001b[0m\n",
            "  \"Initializing environment in old step API which returns one bool instead of two. It is recommended to set `new_step_api=True` to use new step API. This will be the default behaviour in future.\"\n",
            "/content/drive/My Drive/Colab Notebooks/gym/wrappers/record_video.py:79: UserWarning: \u001b[33mWARN: Overwriting existing videos at /content/drive/MyDrive/Colab Notebooks/video folder (try specifying a different `video_folder` for the `RecordVideo` wrapper if this is not desired)\u001b[0m\n",
            "  f\"Overwriting existing videos at {self.video_folder} folder \"\n",
            "/content/drive/My Drive/Colab Notebooks/gym/wrappers/monitoring/video_recorder.py:79: DeprecationWarning: \u001b[33mWARN: Recording ability for environment CartPole-v1 initialized with `render_mode=None` is marked as deprecated and will be removed in the future.\u001b[0m\n",
            "  f\"Recording ability for environment {env.spec.id} initialized with `render_mode=None` is marked \"\n",
            "/content/drive/My Drive/Colab Notebooks/gym/core.py:52: DeprecationWarning: \u001b[33mWARN: The argument mode in render method is deprecated; use render_mode during environment initialization instead.\n",
            "See here for more information: https://www.gymlibrary.ml/content/api/\u001b[0m\n",
            "  \"The argument mode in render method is deprecated; \"\n",
            "/content/drive/My Drive/Colab Notebooks/gym/core.py:52: DeprecationWarning: \u001b[33mWARN: The argument mode in render method is deprecated; use render_mode during environment initialization instead.\n",
            "See here for more information: https://www.gymlibrary.ml/content/api/\u001b[0m\n",
            "  \"The argument mode in render method is deprecated; \"\n"
          ]
        },
        {
          "output_type": "stream",
          "name": "stdout",
          "text": [
            "13.0\n"
          ]
        }
      ]
    },
    {
      "cell_type": "code",
      "source": [
        ""
      ],
      "metadata": {
        "id": "2qyhfy4ZByR0"
      },
      "execution_count": null,
      "outputs": []
    }
  ]
}