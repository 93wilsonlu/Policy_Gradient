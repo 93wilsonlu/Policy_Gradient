{
  "cells": [
    {
      "cell_type": "code",
      "execution_count": 2,
      "metadata": {
        "colab": {
          "base_uri": "https://localhost:8080/"
        },
        "id": "dTNC5qKgbZwZ",
        "outputId": "242aa64c-7a06-4d5a-8d64-3c8186936775"
      },
      "outputs": [
        {
          "name": "stdout",
          "output_type": "stream",
          "text": [
            "Drive already mounted at /content/drive; to attempt to forcibly remount, call drive.mount(\"/content/drive\", force_remount=True).\n"
          ]
        }
      ],
      "source": [
        "from google.colab import drive\n",
        "import os\n",
        "drive.mount('/content/drive')\n",
        "os.chdir(\"/content/drive/My Drive/Colab Notebooks\")\n",
        "\n",
        "import tensorflow as tf\n",
        "from tensorflow import keras\n",
        "from tensorflow.keras import layers\n",
        "import numpy as np\n",
        "import gym\n",
        "import scipy.signal"
      ]
    },
    {
      "cell_type": "code",
      "execution_count": 3,
      "metadata": {
        "id": "r5_LRqnZV6s_"
      },
      "outputs": [],
      "source": [
        "steps_per_epoch = 4000\n",
        "epochs = 30\n",
        "hidden_sizes = (64, 64)\n",
        "train_iterations = 80\n",
        "seed = 543\n",
        "np.random.seed(seed=seed)"
      ]
    },
    {
      "cell_type": "code",
      "execution_count": 4,
      "metadata": {
        "id": "HrfmBZoydVC1"
      },
      "outputs": [],
      "source": [
        "def discounted_cumulative_sums(x, discount):\n",
        "    '''\n",
        "    :param array(n) x: reward\n",
        "    :param float discount\n",
        "    '''\n",
        "    return scipy.signal.lfilter([1], [1, float(-discount)], x[::-1], axis=0)[::-1]"
      ]
    },
    {
      "cell_type": "code",
      "execution_count": 5,
      "metadata": {
        "id": "xmFk0sJSd96V"
      },
      "outputs": [],
      "source": [
        "class Buffer:\n",
        "    def __init__(self, observation_dimensions, size, gamma=0.99):\n",
        "        self.observation_buffer = np.zeros(\n",
        "            (size, observation_dimensions), dtype=np.float32\n",
        "        )\n",
        "        self.action_buffer = np.zeros(size, dtype=np.int32)\n",
        "        self.reward_buffer = np.zeros(size, dtype=np.float32)\n",
        "        self.advantage_buffer = np.zeros(size, dtype=np.float32)\n",
        "        self.gamma = gamma\n",
        "        self.pointer, self.trajectory_start_index = 0, 0\n",
        "\n",
        "    def store(self, observation, action, reward):\n",
        "        self.observation_buffer[self.pointer] = observation\n",
        "        self.action_buffer[self.pointer] = action\n",
        "        self.reward_buffer[self.pointer] = reward\n",
        "        self.pointer += 1\n",
        "\n",
        "    def finish_trajectory(self):\n",
        "        path_slice = slice(self.trajectory_start_index, self.pointer)\n",
        "\n",
        "        self.advantage_buffer[path_slice] = discounted_cumulative_sums(\n",
        "            self.reward_buffer[path_slice], self.gamma\n",
        "        )\n",
        "        self.trajectory_start_index = self.pointer\n",
        "\n",
        "    def get(self):\n",
        "        self.pointer, self.trajectory_start_index = 0, 0\n",
        "        self.advantage_buffer -= np.mean(self.advantage_buffer)\n",
        "        return (\n",
        "            self.observation_buffer,\n",
        "            self.action_buffer,\n",
        "            self.advantage_buffer,\n",
        "        )"
      ]
    },
    {
      "cell_type": "code",
      "execution_count": 6,
      "metadata": {
        "id": "6_tca08cVZPw"
      },
      "outputs": [],
      "source": [
        "def mlp(x, sizes, activation='relu', output_activation=None):\n",
        "    for size in sizes[:-1]:\n",
        "        x = layers.Dense(units=size, activation=activation)(x)\n",
        "    return layers.Dense(units=sizes[-1], activation=output_activation)(x)"
      ]
    },
    {
      "cell_type": "code",
      "execution_count": 7,
      "metadata": {
        "id": "2UdWXHKdVwJa"
      },
      "outputs": [],
      "source": [
        "def logprobabilities(logits, a):\n",
        "    '''\n",
        "    :param array(n, num_actions) logits: model output\n",
        "    :param array(n) a\n",
        "    :return array(n) logprobability\n",
        "    '''\n",
        "    logprobabilities_all = tf.math.log(logits)\n",
        "    logprobability = tf.reduce_sum(\n",
        "        tf.one_hot(a, num_actions) * logprobabilities_all, axis=1\n",
        "    )\n",
        "    return logprobability"
      ]
    },
    {
      "cell_type": "code",
      "execution_count": 8,
      "metadata": {
        "id": "q0R-GqgxV5B2"
      },
      "outputs": [],
      "source": [
        "@tf.function\n",
        "def sample_action(observation):\n",
        "    '''\n",
        "    :param array(n, 4) observation\n",
        "    :return array(1) action\n",
        "    '''\n",
        "    logits = model(observation)\n",
        "    action = tf.squeeze(tf.random.categorical(logits, 1), axis=1)\n",
        "    return action"
      ]
    },
    {
      "cell_type": "code",
      "execution_count": 10,
      "metadata": {
        "colab": {
          "base_uri": "https://localhost:8080/"
        },
        "id": "4eBRo8nIWxIM",
        "outputId": "6391728f-667e-48d0-97d6-f19c02040019"
      },
      "outputs": [
        {
          "name": "stderr",
          "output_type": "stream",
          "text": [
            "/content/drive/My Drive/Colab Notebooks/gym/core.py:330: DeprecationWarning: \u001b[33mWARN: Initializing wrapper in old step API which returns one bool instead of two. It is recommended to set `new_step_api=True` to use new step API. This will be the default behaviour in future.\u001b[0m\n",
            "  \"Initializing wrapper in old step API which returns one bool instead of two. It is recommended to set `new_step_api=True` to use new step API. This will be the default behaviour in future.\"\n",
            "/content/drive/My Drive/Colab Notebooks/gym/wrappers/step_api_compatibility.py:40: DeprecationWarning: \u001b[33mWARN: Initializing environment in old step API which returns one bool instead of two. It is recommended to set `new_step_api=True` to use new step API. This will be the default behaviour in future.\u001b[0m\n",
            "  \"Initializing environment in old step API which returns one bool instead of two. It is recommended to set `new_step_api=True` to use new step API. This will be the default behaviour in future.\"\n"
          ]
        }
      ],
      "source": [
        "env = gym.make(\"CartPole-v1\")\n",
        "observation_dimensions = env.observation_space.shape[0]\n",
        "num_actions = env.action_space.n\n",
        "\n",
        "buffer = Buffer(observation_dimensions, steps_per_epoch)\n",
        "\n",
        "observation_input = keras.Input(shape=(observation_dimensions,), dtype=tf.float32)\n",
        "logits = mlp(observation_input, list(hidden_sizes) + [num_actions], 'relu', 'softmax')\n",
        "model = keras.Model(inputs=observation_input, outputs=logits)\n",
        "optimizer = keras.optimizers.Adam()"
      ]
    },
    {
      "cell_type": "code",
      "execution_count": 11,
      "metadata": {
        "id": "4yUdh7D2YSBW"
      },
      "outputs": [],
      "source": [
        "def train_model(observation_buffer, action_buffer, advantage_buffer):\n",
        "    '''\n",
        "    :param array(n, observation_dimensions) observation_buffer\n",
        "    :param array(n) action_buffer\n",
        "    :param array(n) advantage_buffer\n",
        "    '''\n",
        "    with tf.GradientTape() as tape:\n",
        "        loss = -tf.reduce_mean(\n",
        "            logprobabilities(model(observation_buffer), action_buffer) * advantage_buffer\n",
        "        )\n",
        "    grads = tape.gradient(loss, model.trainable_variables)\n",
        "    optimizer.apply_gradients(zip(grads, model.trainable_variables))"
      ]
    },
    {
      "cell_type": "code",
      "execution_count": 12,
      "metadata": {
        "colab": {
          "base_uri": "https://localhost:8080/"
        },
        "id": "5kUZUYXcXlzw",
        "outputId": "141691a6-a715-4a5c-bceb-1eb9f33be377"
      },
      "outputs": [
        {
          "name": "stdout",
          "output_type": "stream",
          "text": [
            " Epoch: 1. Mean Return: 23.668639053254438\n",
            " Epoch: 2. Mean Return: 55.55555555555556\n",
            " Epoch: 3. Mean Return: 9.433962264150944\n",
            " Epoch: 4. Mean Return: 9.345794392523365\n",
            " Epoch: 5. Mean Return: 9.36768149882904\n",
            " Epoch: 6. Mean Return: 9.345794392523365\n",
            " Epoch: 7. Mean Return: 9.345794392523365\n",
            " Epoch: 8. Mean Return: 9.345794392523365\n",
            " Epoch: 9. Mean Return: 9.389671361502348\n",
            " Epoch: 10. Mean Return: 9.411764705882353\n",
            " Epoch: 11. Mean Return: 9.324009324009324\n",
            " Epoch: 12. Mean Return: 9.389671361502348\n",
            " Epoch: 13. Mean Return: 9.389671361502348\n",
            " Epoch: 14. Mean Return: 9.433962264150944\n",
            " Epoch: 15. Mean Return: 9.324009324009324\n",
            " Epoch: 16. Mean Return: 9.345794392523365\n",
            " Epoch: 17. Mean Return: 9.25925925925926\n",
            " Epoch: 18. Mean Return: 9.411764705882353\n",
            " Epoch: 19. Mean Return: 9.389671361502348\n",
            " Epoch: 20. Mean Return: 9.389671361502348\n",
            " Epoch: 21. Mean Return: 9.30232558139535\n",
            " Epoch: 22. Mean Return: 9.36768149882904\n",
            " Epoch: 23. Mean Return: 9.324009324009324\n",
            " Epoch: 24. Mean Return: 9.36768149882904\n",
            " Epoch: 25. Mean Return: 9.36768149882904\n",
            " Epoch: 26. Mean Return: 9.36768149882904\n",
            " Epoch: 27. Mean Return: 9.25925925925926\n",
            " Epoch: 28. Mean Return: 9.324009324009324\n",
            " Epoch: 29. Mean Return: 9.324009324009324\n",
            " Epoch: 30. Mean Return: 9.25925925925926\n"
          ]
        }
      ],
      "source": [
        "observation, episode_return = env.reset(), 0\n",
        "mean_reward_multistep = np.zeros(epochs)\n",
        "\n",
        "for epoch in range(epochs):\n",
        "    sum_return = 0\n",
        "    num_episodes = 0\n",
        "\n",
        "    for t in range(steps_per_epoch):\n",
        "        observation = observation.reshape(1, -1)\n",
        "        action = sample_action(observation)\n",
        "        observation_new, reward, done, _ = env.step(action[0].numpy())\n",
        "        episode_return += reward\n",
        "\n",
        "        buffer.store(observation, action, reward)\n",
        "\n",
        "        observation = observation_new\n",
        "\n",
        "        if done or (t == steps_per_epoch - 1):\n",
        "            buffer.finish_trajectory()\n",
        "            sum_return += episode_return\n",
        "            num_episodes += 1\n",
        "            observation, episode_return = env.reset(), 0\n",
        "            # break\n",
        "\n",
        "    (\n",
        "        observation_buffer,\n",
        "        action_buffer,\n",
        "        advantage_buffer,\n",
        "    ) = buffer.get()\n",
        "\n",
        "    for _ in range(train_iterations):\n",
        "        train_model(observation_buffer, action_buffer, advantage_buffer)\n",
        "    \n",
        "    print(\n",
        "        f\" Epoch: {epoch + 1}. Mean Return: {sum_return / num_episodes}\"\n",
        "    )\n",
        "    mean_reward_multistep[epoch] = sum_return / num_episodes"
      ]
    },
    {
      "cell_type": "code",
      "execution_count": 18,
      "metadata": {
        "colab": {
          "base_uri": "https://localhost:8080/",
          "height": 636
        },
        "id": "H_oNtaMXkqm9",
        "outputId": "58975193-ac28-46f6-a02f-0ad25f6f6913"
      },
      "outputs": [
        {
          "data": {
            "image/png": "[encoded data removed]",
            "text/plain": [
              "<Figure size 1080x720 with 1 Axes>"
            ]
          },
          "metadata": {
            "needs_background": "light"
          },
          "output_type": "display_data"
        }
      ],
      "source": [
        "import matplotlib.pyplot as plt\n",
        "\n",
        "plt.figure(figsize=(15, 10))\n",
        "plt.plot(np.arange(0, epochs), mean_reward_multistep)\n",
        "plt.xlabel('Epoch', fontsize=20) \n",
        "plt.ylabel('Mean Reward', fontsize=20)\n",
        "plt.title(\"Training Result\", fontsize=20)\n",
        "plt.ylim(0, env.spec.reward_threshold+20)\n",
        "plt.yticks([0, 9.5, mean_reward_multistep.max(), env.spec.reward_threshold])\n",
        "plt.grid(axis='y')\n",
        "plt.show()"
      ]
    },
    {
      "cell_type": "code",
      "execution_count": null,
      "metadata": {
        "colab": {
          "base_uri": "https://localhost:8080/"
        },
        "id": "4oxGcDYKZcc7",
        "outputId": "030c5918-3f86-4714-95c4-6c03fa5c4682"
      },
      "outputs": [
        {
          "name": "stderr",
          "output_type": "stream",
          "text": [
            "/content/drive/My Drive/Colab Notebooks/gym/core.py:330: DeprecationWarning: \u001b[33mWARN: Initializing wrapper in old step API which returns one bool instead of two. It is recommended to set `new_step_api=True` to use new step API. This will be the default behaviour in future.\u001b[0m\n",
            "  \"Initializing wrapper in old step API which returns one bool instead of two. It is recommended to set `new_step_api=True` to use new step API. This will be the default behaviour in future.\"\n",
            "/content/drive/My Drive/Colab Notebooks/gym/wrappers/step_api_compatibility.py:40: DeprecationWarning: \u001b[33mWARN: Initializing environment in old step API which returns one bool instead of two. It is recommended to set `new_step_api=True` to use new step API. This will be the default behaviour in future.\u001b[0m\n",
            "  \"Initializing environment in old step API which returns one bool instead of two. It is recommended to set `new_step_api=True` to use new step API. This will be the default behaviour in future.\"\n",
            "/content/drive/My Drive/Colab Notebooks/gym/wrappers/record_video.py:79: UserWarning: \u001b[33mWARN: Overwriting existing videos at /content/drive/MyDrive/Colab Notebooks/video folder (try specifying a different `video_folder` for the `RecordVideo` wrapper if this is not desired)\u001b[0m\n",
            "  f\"Overwriting existing videos at {self.video_folder} folder \"\n",
            "/content/drive/My Drive/Colab Notebooks/gym/wrappers/monitoring/video_recorder.py:79: DeprecationWarning: \u001b[33mWARN: Recording ability for environment CartPole-v1 initialized with `render_mode=None` is marked as deprecated and will be removed in the future.\u001b[0m\n",
            "  f\"Recording ability for environment {env.spec.id} initialized with `render_mode=None` is marked \"\n",
            "/content/drive/My Drive/Colab Notebooks/gym/core.py:52: DeprecationWarning: \u001b[33mWARN: The argument mode in render method is deprecated; use render_mode during environment initialization instead.\n",
            "See here for more information: https://www.gymlibrary.ml/content/api/\u001b[0m\n",
            "  \"The argument mode in render method is deprecated; \"\n",
            "/content/drive/My Drive/Colab Notebooks/gym/core.py:52: DeprecationWarning: \u001b[33mWARN: The argument mode in render method is deprecated; use render_mode during environment initialization instead.\n",
            "See here for more information: https://www.gymlibrary.ml/content/api/\u001b[0m\n",
            "  \"The argument mode in render method is deprecated; \"\n"
          ]
        },
        {
          "name": "stdout",
          "output_type": "stream",
          "text": [
            "13.0\n"
          ]
        }
      ],
      "source": [
        "from gym.wrappers import RecordVideo\n",
        "record_env = RecordVideo(gym.make('CartPole-v1'), './video')\n",
        "\n",
        "current_state = record_env.reset()\n",
        "sum_reward = 0\n",
        "while 1:\n",
        "    action = sample_action(current_state.reshape(1, -1))\n",
        "    next_state, reward, done, info = record_env.step(action[0].numpy())\n",
        "    sum_reward += reward\n",
        "    # current_state = next_state\n",
        "    if done:\n",
        "        break\n",
        "\n",
        "record_env.close()\n",
        "print(sum_reward)"
      ]
    },
    {
      "cell_type": "code",
      "execution_count": null,
      "metadata": {
        "id": "wVjxMAdxsmrw"
      },
      "outputs": [],
      "source": []
    }
  ],
  "metadata": {
    "accelerator": "GPU",
    "colab": {
      "collapsed_sections": [],
      "name": "Policy_Gradient.ipynb",
      "provenance": []
    },
    "gpuClass": "standard",
    "kernelspec": {
      "display_name": "Python 3.9.13 64-bit",
      "language": "python",
      "name": "python3"
    },
    "language_info": {
      "name": "python",
      "version": "3.9.13"
    },
    "vscode": {
      "interpreter": {
        "hash": "aee8b7b246df8f9039afb4144a1f6fd8d2ca17a180786b69acc140d282b71a49"
      }
    }
  },
  "nbformat": 4,
  "nbformat_minor": 0
}
